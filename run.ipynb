{
 "cells": [
  {
   "cell_type": "code",
   "execution_count": null,
   "id": "ef180266-1d96-4e26-b206-3576e52ee35b",
   "metadata": {},
   "outputs": [],
   "source": [
    "from os import getenv\n",
    "\n",
    "input_folder = getenv('CROSSCOMPUTE_INPUT_FOLDER', 'batches/djibouti/input')\n",
    "output_folder = getenv('CROSSCOMPUTE_OUTPUT_FOLDER', 'batches/djibouti/output')\n",
    "log_folder = getenv('CROSSCOMPUTE_LOG_FOLDER', 'batches/djibouti/log')\n",
    "debug_folder = getenv('CROSSCOMPUTE_DEBUG_FOLDER', 'batches/djibouti/debug')"
   ]
  },
  {
   "cell_type": "code",
   "execution_count": null,
   "id": "4c066d49-d373-43b7-9356-cc477be71fed",
   "metadata": {},
   "outputs": [],
   "source": [
    "from os.path import join, splitext\n",
    "from pandas import ExcelWriter, read_csv\n",
    "\n",
    "specifications_path = join(debug_folder, 'specifications.xlsx')\n",
    "excel_writer = ExcelWriter(specifications_path)\n",
    "for file_name in [\n",
    "    'scenario-info.csv',\n",
    "    'scenario-parameters.csv',\n",
    "    'specs-data.csv',\n",
    "]:\n",
    "    table = read_csv(join(input_folder, file_name))\n",
    "    sheet_name = ''.join(_.title() for _ in splitext(file_name)[0].split('-'))\n",
    "    table.to_excel(excel_writer, sheet_name=sheet_name, index=False)\n",
    "excel_writer.save()"
   ]
  },
  {
   "cell_type": "code",
   "execution_count": null,
   "id": "66c3b2d0-c622-41f2-a2a2-0d8fce3285f7",
   "metadata": {},
   "outputs": [],
   "source": [
    "from onsset.runner import calibration, scenario\n",
    "\n",
    "settlements_path = join(input_folder, 'settlements.csv')\n",
    "calibrated_specifications_path = join(debug_folder, 'specifications.xlsx')\n",
    "calibrated_settlements_path = join(debug_folder, 'settlements.csv')\n",
    "calibration(\n",
    "    specs_path=specifications_path,\n",
    "    csv_path=settlements_path,\n",
    "    specs_path_calib=calibrated_specifications_path,\n",
    "    calibrated_csv_path=calibrated_settlements_path)\n",
    "scenario(\n",
    "    specs_path=calibrated_specifications_path,\n",
    "    calibrated_csv_path=calibrated_settlements_path,\n",
    "    results_folder=log_folder,\n",
    "    summary_folder=log_folder)"
   ]
  },
  {
   "cell_type": "code",
   "execution_count": null,
   "id": "f890f9aa-9daa-44a6-91ef-60c4061f535a",
   "metadata": {},
   "outputs": [],
   "source": [
    "from glob import glob\n",
    "from os import rename\n",
    "\n",
    "summary_path = join(log_folder, 'summary.csv')\n",
    "rename(glob(join(log_folder, '*-1-*_summary.csv'))[0], summary_path)\n",
    "summary_table = read_csv(summary_path)\n",
    "\n",
    "results_path = join(log_folder, 'results.csv')\n",
    "rename(glob(join(log_folder, '*-1-*.csv'))[0], results_path)\n",
    "results_table = read_csv(results_path)"
   ]
  },
  {
   "cell_type": "code",
   "execution_count": null,
   "id": "dc7fc959-baf5-4791-a591-91dd06dda5c2",
   "metadata": {},
   "outputs": [],
   "source": [
    "specs_data_table = read_csv(join(input_folder, 'specs-data.csv'))\n",
    "country_name = specs_data_table['Country'][0]\n",
    "country_name"
   ]
  },
  {
   "cell_type": "code",
   "execution_count": null,
   "id": "0a8355a6-e867-4626-83c8-8b632112a0bd",
   "metadata": {},
   "outputs": [],
   "source": [
    "target_year = summary_table.columns[-1]"
   ]
  },
  {
   "cell_type": "code",
   "execution_count": null,
   "id": "d4f12a91-f90a-4ef4-a0ef-011bb59d2e8b",
   "metadata": {},
   "outputs": [],
   "source": [
    "t = summary_table[['Unnamed: 0', target_year]]\n",
    "t = t.set_index('Unnamed: 0')\n",
    "t = t.squeeze()\n",
    "t = t[t != 0]\n",
    "t"
   ]
  },
  {
   "cell_type": "code",
   "execution_count": null,
   "id": "33871373-a991-4e8d-9d22-4139563a1b7f",
   "metadata": {},
   "outputs": [],
   "source": [
    "population_keys = [_ for _ in t.keys() if _.startswith('1.Population')]\n",
    "population_keys"
   ]
  },
  {
   "cell_type": "code",
   "execution_count": null,
   "id": "7d096dfa-150a-4fff-a449-c2606f79a52b",
   "metadata": {},
   "outputs": [],
   "source": [
    "technology_codes = [_.replace('1.Population_', '') for _ in population_keys]\n",
    "technology_codes"
   ]
  },
  {
   "cell_type": "code",
   "execution_count": null,
   "id": "4d0b93c7-2d4c-41e1-a11f-296a08f9a9d8",
   "metadata": {},
   "outputs": [],
   "source": [
    "technology_name_by_code = {\n",
    "    'Grid': 'Grid Extension',\n",
    "    'SA_PV': 'Stand Alone - Photovoltaic',\n",
    "    'MG_PV': 'Mini Grid - Photovoltaic',\n",
    "    'MG_Wind': 'Mini Grid - Wind',\n",
    "}\n",
    "technology_names = [technology_name_by_code[_] for _ in technology_codes]\n",
    "technology_names"
   ]
  },
  {
   "cell_type": "code",
   "execution_count": null,
   "id": "c9f9f57a-bf1f-4bc8-8397-bd6033d32c52",
   "metadata": {},
   "outputs": [],
   "source": [
    "from math import ceil\n",
    "from pandas import DataFrame\n",
    "\n",
    "def get_values(prefix):\n",
    "    return t[t.index.str.startswith(prefix)].reset_index(drop=True).apply(lambda _: '{:,d}'.format(ceil(_)))\n",
    "\n",
    "overview_table = DataFrame()\n",
    "overview_table['Electrification Technology'] = technology_names\n",
    "overview_table['Population Connected'] = get_values('1.Population')\n",
    "overview_table['Investment Required'] = get_values('4.Investment')\n",
    "overview_table['Capacity Added'] = get_values('3.Capacity')\n",
    "overview_table"
   ]
  },
  {
   "cell_type": "code",
   "execution_count": null,
   "id": "0daac01e-b1c1-4f2f-9b69-f1a1b1dfdce6",
   "metadata": {},
   "outputs": [],
   "source": [
    "import json\n",
    "\n",
    "json.dump({\n",
    "    'country_name': country_name,\n",
    "    'target_year': target_year,\n",
    "}, open(join(output_folder, 'variables.dictionary'), 'wt'))"
   ]
  },
  {
   "cell_type": "code",
   "execution_count": null,
   "id": "24626ceb-7e97-497b-b815-e17bc7d8a95b",
   "metadata": {},
   "outputs": [],
   "source": [
    "json.dump({\n",
    "    'type': 'FeatureCollection',\n",
    "    'features': [{\n",
    "        'type': 'Feature',\n",
    "        'geometry': {\n",
    "            'type': 'Point',\n",
    "            'coordinates': [_['X_deg'], _['Y_deg']],\n",
    "        },\n",
    "    } for i, _ in results_table.iterrows()],\n",
    "}, open(join(output_folder, 'map.geojson'), 'wt'))"
   ]
  },
  {
   "cell_type": "code",
   "execution_count": null,
   "id": "2d8cb4f4-04ca-4773-b471-630dc95b9e0d",
   "metadata": {},
   "outputs": [],
   "source": [
    "json.dump({\n",
    "    'latitude': results_table['Y_deg'].mean(),\n",
    "    'longitude': results_table['X_deg'].mean(),\n",
    "    'zoom': 7,\n",
    "}, open(join(output_folder, 'map.json'), 'wt'))"
   ]
  },
  {
   "cell_type": "code",
   "execution_count": null,
   "id": "2b97b913-f149-461f-ad5e-65944e535499",
   "metadata": {},
   "outputs": [],
   "source": [
    "overview_table.to_json(join(output_folder, 'overview.json'), orient='split', index=False)"
   ]
  }
 ],
 "metadata": {
  "kernelspec": {
   "display_name": "Python 3 (ipykernel)",
   "language": "python",
   "name": "python3"
  },
  "language_info": {
   "codemirror_mode": {
    "name": "ipython",
    "version": 3
   },
   "file_extension": ".py",
   "mimetype": "text/x-python",
   "name": "python",
   "nbconvert_exporter": "python",
   "pygments_lexer": "ipython3",
   "version": "3.10.1"
  }
 },
 "nbformat": 4,
 "nbformat_minor": 5
}
