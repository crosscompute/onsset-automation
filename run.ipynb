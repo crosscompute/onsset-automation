{
 "cells": [
  {
   "cell_type": "code",
   "execution_count": 5,
   "id": "ef180266-1d96-4e26-b206-3576e52ee35b",
   "metadata": {},
   "outputs": [],
   "source": [
    "from os import getenv\n",
    "input_folder = getenv('CROSSCOMPUTE_INPUT_FOLDER', 'tests/standard/input')\n",
    "output_folder = getenv('CROSSCOMPUTE_OUTPUT_FOLDER', 'tests/standard/output')\n",
    "log_folder = getenv('CROSSCOMPUTE_LOG_FOLDER', 'tests/standard/log')\n",
    "debug_folder = getenv('CROSSCOMPUTE_DEBUG_FOLDER', 'tests/standard/debug')"
   ]
  },
  {
   "cell_type": "code",
   "execution_count": 4,
   "id": "4c066d49-d373-43b7-9356-cc477be71fed",
   "metadata": {},
   "outputs": [
    {
     "name": "stdout",
     "output_type": "stream",
     "text": [
      "scenario-info.csv  scenario-parameters.csv  settlements.csv  specs-data.csv\n"
     ]
    }
   ],
   "source": [
    "from pandas import ExcelWriter\n",
    "\n",
    "specifications_path = join(debug_folder, 'specifications.xlsx')\n",
    "excel_writer = ExcelWriter()"
   ]
  }
 ],
 "metadata": {
  "kernelspec": {
   "display_name": "Python 3 (ipykernel)",
   "language": "python",
   "name": "python3"
  },
  "language_info": {
   "codemirror_mode": {
    "name": "ipython",
    "version": 3
   },
   "file_extension": ".py",
   "mimetype": "text/x-python",
   "name": "python",
   "nbconvert_exporter": "python",
   "pygments_lexer": "ipython3",
   "version": "3.9.5"
  }
 },
 "nbformat": 4,
 "nbformat_minor": 5
}
