{
 "cells": [
  {
   "cell_type": "code",
   "execution_count": null,
   "id": "ef180266-1d96-4e26-b206-3576e52ee35b",
   "metadata": {},
   "outputs": [],
   "source": [
    "from os import getenv\n",
    "\n",
    "input_folder = getenv('CROSSCOMPUTE_INPUT_FOLDER', 'tests/standard/input')\n",
    "output_folder = getenv('CROSSCOMPUTE_OUTPUT_FOLDER', 'tests/standard/output')\n",
    "log_folder = getenv('CROSSCOMPUTE_LOG_FOLDER', 'tests/standard/log')\n",
    "debug_folder = getenv('CROSSCOMPUTE_DEBUG_FOLDER', 'tests/standard/debug')"
   ]
  },
  {
   "cell_type": "code",
   "execution_count": null,
   "id": "4c066d49-d373-43b7-9356-cc477be71fed",
   "metadata": {},
   "outputs": [],
   "source": [
    "from os.path import join, splitext\n",
    "from pandas import ExcelWriter, read_csv\n",
    "\n",
    "specifications_path = join(debug_folder, 'specifications.xlsx')\n",
    "excel_writer = ExcelWriter(specifications_path)\n",
    "for file_name in [\n",
    "    'scenario-info.csv',\n",
    "    'scenario-parameters.csv',\n",
    "    'specs-data.csv',\n",
    "]:\n",
    "    table = read_csv(join(input_folder, file_name))\n",
    "    sheet_name = ''.join(_.title() for _ in splitext(file_name)[0].split('-'))\n",
    "    table.to_excel(excel_writer, sheet_name=sheet_name, index=False)\n",
    "excel_writer.save()"
   ]
  },
  {
   "cell_type": "code",
   "execution_count": null,
   "id": "66c3b2d0-c622-41f2-a2a2-0d8fce3285f7",
   "metadata": {},
   "outputs": [],
   "source": [
    "from onsset.runner import calibration, scenario\n",
    "\n",
    "settlements_path = join(input_folder, 'settlements.csv')\n",
    "calibrated_specifications_path = join(debug_folder, 'specifications.xlsx')\n",
    "calibrated_settlements_path = join(debug_folder, 'settlements.csv')\n",
    "calibration(\n",
    "    specs_path=specifications_path,\n",
    "    csv_path=settlements_path,\n",
    "    specs_path_calib=calibrated_specifications_path,\n",
    "    calibrated_csv_path=calibrated_settlements_path)\n",
    "scenario(\n",
    "    specs_path=calibrated_specifications_path,\n",
    "    calibrated_csv_path=calibrated_settlements_path,\n",
    "    results_folder=log_folder,\n",
    "    summary_folder=log_folder)"
   ]
  },
  {
   "cell_type": "code",
   "execution_count": null,
   "id": "f890f9aa-9daa-44a6-91ef-60c4061f535a",
   "metadata": {},
   "outputs": [],
   "source": [
    "from glob import glob\n",
    "from os import rename\n",
    "\n",
    "summary_path = glob(join(log_folder, '*-1-*_summary.csv'))[0]\n",
    "rename(summary_path, join(log_folder, 'summary.csv'))\n",
    "\n",
    "results_path = glob(join(log_folder, '*-1-*.csv'))[0]\n",
    "rename(results_path, join(log_folder, 'results.csv'))"
   ]
  }
 ],
 "metadata": {
  "kernelspec": {
   "display_name": "Python 3 (ipykernel)",
   "language": "python",
   "name": "python3"
  },
  "language_info": {
   "codemirror_mode": {
    "name": "ipython",
    "version": 3
   },
   "file_extension": ".py",
   "mimetype": "text/x-python",
   "name": "python",
   "nbconvert_exporter": "python",
   "pygments_lexer": "ipython3",
   "version": "3.10.1"
  }
 },
 "nbformat": 4,
 "nbformat_minor": 5
}
