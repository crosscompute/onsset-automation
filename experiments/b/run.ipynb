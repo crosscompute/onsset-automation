{
 "cells": [
  {
   "cell_type": "code",
   "execution_count": null,
   "metadata": {},
   "outputs": [],
   "source": [
    "def quantile_strategie(column, row, summary):\n",
    "    try:\n",
    "        if row[column] == summary[column]['min']:\n",
    "            return 'min'\n",
    "        elif row[column] <= summary[column]['25%']:\n",
    "            return '25%'\n",
    "        elif row[column] <= summary[column]['50%']:\n",
    "            return '50%'\n",
    "        elif row[column] <= summary[column]['75%']:\n",
    "            return '75%'\n",
    "        else:\n",
    "            return 'max'\n",
    "    except KeyError:\n",
    "        return row[column]"
   ]
  },
  {
   "cell_type": "code",
   "execution_count": null,
   "metadata": {},
   "outputs": [],
   "source": [
    "gray_color = [128, 128, 128, 160]\n",
    "blue_color = [3, 169, 244, 160]\n",
    "green_color = [92, 176, 81, 160]\n",
    "yellow_color = [255, 255, 0, 160]\n",
    "red_color = [255, 0, 0, 160]\n",
    "\n",
    "inner_style_dictionary = {\n",
    "    'min': {\n",
    "        'fillColor': gray_color,\n",
    "        'lineColor': gray_color,\n",
    "        'lineWidth': 5\n",
    "        # 'dashArray': [1, 1]\n",
    "    },\n",
    "    '25%': {\n",
    "        'fillColor': blue_color,\n",
    "        'lineColor': blue_color,\n",
    "        'lineWidth': 10\n",
    "        # 'dashArray': [1, 1]\n",
    "    },\n",
    "    '50%': {\n",
    "        'fillColor': green_color,\n",
    "        'lineColor': green_color,\n",
    "        'lineWidth': 15\n",
    "        # 'dashArray': [1, 1]\n",
    "    },\n",
    "    '75%': {\n",
    "        'fillColor': red_color,\n",
    "        'lineColor': red_color,\n",
    "        'lineWidth': 20\n",
    "        # 'dashArray': [1, 1]\n",
    "    },\n",
    "    'max': {\n",
    "        'fillColor': red_color,\n",
    "        'lineColor': red_color,\n",
    "        'lineWidth': 20\n",
    "        # 'dashArray': [1, 1]\n",
    "    },\n",
    "}"
   ]
  }
 ],
 "metadata": {
  "kernelspec": {
   "display_name": "Python 3 (ipykernel)",
   "language": "python",
   "name": "python3"
  },
  "language_info": {
   "codemirror_mode": {
    "name": "ipython",
    "version": 3
   },
   "file_extension": ".py",
   "mimetype": "text/x-python",
   "name": "python",
   "nbconvert_exporter": "python",
   "pygments_lexer": "ipython3",
   "version": "3.10.1"
  }
 },
 "nbformat": 4,
 "nbformat_minor": 4
}
