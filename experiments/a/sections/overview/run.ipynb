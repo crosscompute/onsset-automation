{
 "cells": [
  {
   "cell_type": "code",
   "execution_count": null,
   "metadata": {},
   "outputs": [],
   "source": [
    "from glob import glob\n",
    "from os.path import basename, splitext\n",
    "\n",
    "def collect_scenarios(target_path, source_folder):\n",
    "    tables = []\n",
    "    for path in glob(join(source_folder, '*.csv')):\n",
    "        table = pd.read_csv(path)\n",
    "        table['ScenarioName'] = basename(splitext(path)[0])\n",
    "        columns = list(table.columns)\n",
    "        columns.insert(0, columns.pop(columns.index('ScenarioName')))\n",
    "        tables.append(table[columns])\n",
    "    scenarios = pd.concat(tables)\n",
    "    scenarios.to_csv(target_path, index=False)\n",
    "    return scenarios\n",
    "    \n",
    "scenarios = collect_scenarios(join(output_folder, 'details.csv'), details_folder)\n",
    "summaries = collect_scenarios(join(output_folder, 'summaries.csv'), summaries_folder)\n",
    "scenarios.head"
   ]
  },
  {
   "cell_type": "code",
   "execution_count": null,
   "metadata": {},
   "outputs": [],
   "source": [
    "report_year = summaries.columns[-1]\n",
    "report_year"
   ]
  },
  {
   "cell_type": "code",
   "execution_count": null,
   "metadata": {},
   "outputs": [],
   "source": [
    "t = summaries[['Unnamed: 0', report_year]]\n",
    "t = t.set_index('Unnamed: 0')\n",
    "t = t.squeeze()\n",
    "t = t[t != 0]\n",
    "t"
   ]
  },
  {
   "cell_type": "code",
   "execution_count": null,
   "metadata": {},
   "outputs": [],
   "source": [
    "population_keys = [_ for _ in t.keys() if _.startswith('1.Population')]\n",
    "population_keys"
   ]
  },
  {
   "cell_type": "code",
   "execution_count": null,
   "metadata": {},
   "outputs": [],
   "source": [
    "technology_codes = [_.replace('1.Population_', '') for _ in population_keys]\n",
    "technology_codes"
   ]
  },
  {
   "cell_type": "code",
   "execution_count": null,
   "metadata": {},
   "outputs": [],
   "source": [
    "technology_name_by_code = {\n",
    "    'Grid': 'Grid Extension',\n",
    "    'SA_PV': 'Stand Alone - Photovoltaic',\n",
    "    'MG_PV': 'Mini Grid - Photovoltaic',\n",
    "    'MG_Wind': 'Mini Grid - Wind',\n",
    "}\n",
    "technology_names = [technology_name_by_code[_] for _ in technology_codes]\n",
    "technology_names"
   ]
  },
  {
   "cell_type": "code",
   "execution_count": null,
   "metadata": {},
   "outputs": [],
   "source": [
    "import pandas as pd\n",
    "summary_table = pd.DataFrame()\n",
    "summary_table['Technology'] = technology_names"
   ]
  },
  {
   "cell_type": "code",
   "execution_count": null,
   "metadata": {},
   "outputs": [],
   "source": [
    "t"
   ]
  },
  {
   "cell_type": "code",
   "execution_count": null,
   "metadata": {},
   "outputs": [],
   "source": [
    "population_index = '1.Population'\n",
    "summary_table['Population Connected'] = t[t.index.str.contains(population_index)].reset_index(drop=True)\n",
    "summary_table"
   ]
  },
  {
   "cell_type": "code",
   "execution_count": null,
   "metadata": {},
   "outputs": [],
   "source": [
    "investment_index = '4.Investment'\n",
    "summary_table['Investment Required'] = t[t.index.str.contains(investment_index)].reset_index(drop=True)\n",
    "summary_table\n"
   ]
  },
  {
   "cell_type": "code",
   "execution_count": null,
   "metadata": {},
   "outputs": [],
   "source": [
    "added_capacity_index = '3.Capacity'\n",
    "summary_table['Added Capacity'] = t[t.index.str.contains(added_capacity_index)].reset_index(drop=True)\n",
    "\n",
    "with open(join(output_folder, \"overview-table.geojson\"), 'w') as f:\n",
    "    summary_table.to_csv(f)\n",
    "summary_table\n"
   ]
  },
  {
   "cell_type": "code",
   "execution_count": null,
   "metadata": {},
   "outputs": [],
   "source": [
    "import geopandas\n",
    "import matplotlib.pyplot as plt\n",
    "import json\n",
    "\n",
    "world = geopandas.read_file(geopandas.datasets.get_path('naturalearth_lowres'))\n",
    "\n",
    "fig, ax = plt.subplots(1, 1, figsize=(9, 7))\n",
    "ax.set_aspect('equal')\n",
    "ax.set_yticklabels([])\n",
    "ax.set_xticklabels([])\n",
    "\n",
    "ax.axis(\"off\")\n",
    "\n",
    "cell_positions = scenarios[['X_deg', 'Y_deg', 'Pop', 'GridCellArea', 'Country']]\n",
    "\n",
    "gdf = geopandas.GeoDataFrame(\n",
    "    cell_positions, geometry=geopandas.points_from_xy(scenarios.X_deg, scenarios.Y_deg))\n",
    "\n",
    "collection = {\n",
    "  \"type\": \"FeatureCollection\",\n",
    "  \"features\": [\n",
    "    {\n",
    "      \"type\": \"Feature\",\n",
    "      \"geometry\": {\n",
    "        \"type\": \"Point\",\n",
    "        \"coordinates\": [row['X_deg'], row['Y_deg']]\n",
    "      },\n",
    "      \"properties\": {\n",
    "        \"Population\": row['Pop'],\n",
    "        'GridCellArea': row['GridCellArea']\n",
    "      }\n",
    "    } for index, row in gdf.iterrows()\n",
    "  ]\n",
    "}\n",
    "\n",
    "#ax = world[world.name == 'Djibouti'].plot(\n",
    "#    color='#F0F0F0', edgecolor='#333333', ax=ax)\n",
    "\n",
    "# We can now plot our ``GeoDataFrame``.\n",
    "#gdf.plot(markersize='GridCellArea', cmap='OrRd', ax=ax)\n",
    "\n",
    "with open(join(output_folder, \"overview-map.csv\"), 'w') as f:\n",
    "    json.dump(collection ,f)\n",
    "#gdf.to_file(, driver='GeoJSON')\n",
    "\n",
    "#plt.tight_layout()\n",
    "#plt.show()\n",
    "\n",
    "#plt.savefig(join(output_folder, 'figure1.png'))\n",
    "\n",
    "# collection"
   ]
  }
 ],
 "metadata": {
  "kernelspec": {
   "display_name": "Python 3 (ipykernel)",
   "language": "python",
   "name": "python3"
  },
  "language_info": {
   "codemirror_mode": {
    "name": "ipython",
    "version": 3
   },
   "file_extension": ".py",
   "mimetype": "text/x-python",
   "name": "python",
   "nbconvert_exporter": "python",
   "pygments_lexer": "ipython3",
   "version": "3.10.1"
  }
 },
 "nbformat": 4,
 "nbformat_minor": 4
}
