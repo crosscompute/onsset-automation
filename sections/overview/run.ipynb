{
 "cells": [
  {
   "cell_type": "code",
   "execution_count": 2,
   "metadata": {},
   "outputs": [],
   "source": [
    "from os import environ\n",
    "\n",
    "input_folder = environ.get(\n",
    "    'CROSSCOMPUTE_INPUT_FOLDER', 'tests/standard/input')\n",
    "output_folder = environ.get(\n",
    "    'CROSSCOMPUTE_OUTPUT_FOLDER', 'tests/standard/output')"
   ]
  },
  {
   "cell_type": "code",
   "execution_count": 6,
   "metadata": {},
   "outputs": [],
   "source": [
    "import pandas as pd\n",
    "from os.path import join, splitext\n",
    "\n",
    "specifications_path = join(output_folder, 'specifications.xlsx')\n",
    "json_output_path = join(output_folder, 'assets.json')\n",
    "\n",
    "excel_writer = pd.ExcelWriter(specifications_path)\n",
    "for file_name in [\n",
    "    'specs_data.csv',\n",
    "    'scenario_info.csv',\n",
    "    'scenario_parameters.csv',\n",
    "]:\n",
    "    table = pd.read_csv(join(input_folder, file_name))\n",
    "    base_name = splitext(file_name)[0]\n",
    "    sheet_name = ''.join(_.title() for _ in base_name.split('_'))\n",
    "    table.to_excel(excel_writer, sheet_name=sheet_name, index=False)\n",
    "excel_writer.save()"
   ]
  },
  {
   "cell_type": "code",
   "execution_count": 7,
   "metadata": {},
   "outputs": [],
   "source": [
    "from os import makedirs\n",
    "from os.path import join\n",
    "\n",
    "details_folder = join(output_folder, 'details')\n",
    "summaries_folder = join(output_folder, 'summaries')\n",
    "try:\n",
    "    makedirs(details_folder)\n",
    "    makedirs(summaries_folder)\n",
    "except OSError:\n",
    "    pass"
   ]
  },
  {
   "cell_type": "code",
   "execution_count": 8,
   "metadata": {},
   "outputs": [
    {
     "name": "stderr",
     "output_type": "stream",
     "text": [
      "2021-06-16 19:04:28,469\t\tPopulate ResidentialDemandTier columns\n",
      "2021-06-16 19:04:28,473\t\tEnsure that columns that are supposed to be numeric are numeric\n",
      "2021-06-16 19:04:28,502\t\tNumExpr defaulting to 2 threads.\n",
      "2021-06-16 19:04:28,505\t\tReplace null values with zero\n",
      "2021-06-16 19:04:28,506\t\tSort by country, Y and X\n",
      "2021-06-16 19:04:28,513\t\tClassify road dist\n",
      "2021-06-16 19:04:28,518\t\tClassify substation dist\n",
      "2021-06-16 19:04:28,521\t\tClassify elevation\n",
      "2021-06-16 19:04:28,524\t\tClassify slope\n",
      "2021-06-16 19:04:28,527\t\tClassify land cover\n",
      "2021-06-16 19:04:28,530\t\tCombined classification\n",
      "2021-06-16 19:04:28,533\t\tGrid penalty\n",
      "2021-06-16 19:04:28,536\t\tCalculate Wind CF\n",
      "2021-06-16 19:04:28,568\t\tPopulation calibration process\n",
      "2021-06-16 19:04:28,592\t\tUrban/rural calibration process\n",
      "2021-06-16 19:04:28,706\t\tPopulation projection process\n"
     ]
    },
    {
     "name": "stdout",
     "output_type": "stream",
     "text": [
      "The calibrated population differs by 0.00. In case this is not acceptable please revise this part of the code\n"
     ]
    },
    {
     "name": "stderr",
     "output_type": "stream",
     "text": [
      "2021-06-16 19:04:28,834\t\tCalibrate current electrification\n",
      "2021-06-16 19:04:28,925\t\tCalibration finished. Results are transferred to the csv file\n"
     ]
    },
    {
     "name": "stdout",
     "output_type": "stream",
     "text": [
      "We have identified the existence of transformers or MV lines as input data; therefore we proceed using those for the calibration\n",
      "The modelled electrification rate differ by 0.00. Urban elec. rate differ by 0.00 and Rural elec. rate differ by 0.00. \n",
      "If this is not acceptable please revise this part of the algorithm\n",
      "Djibouti\n",
      "Scenario: 1\n"
     ]
    },
    {
     "name": "stderr",
     "output_type": "stream",
     "text": [
      "2021-06-16 19:04:29,137\t\tDetermine current MV line length\n",
      "2021-06-16 19:04:29,146\t\tCalculate new connections\n",
      "2021-06-16 19:04:29,151\t\tSetting electrification demand as per target per year\n",
      "2021-06-16 19:04:29,187\t\tCalculate minigrid hydro LCOE\n",
      "2021-06-16 19:04:29,251\t\tCalculate minigrid PV LCOE\n",
      "2021-06-16 19:04:29,314\t\tCalculate minigrid wind LCOE\n",
      "2021-06-16 19:04:29,378\t\tCalculate standalone PV LCOE\n",
      "2021-06-16 19:04:29,410\t\tDetermine minimum technology (off-grid)\n",
      "2021-06-16 19:04:29,436\t\tDetermine minimum tech LCOE\n",
      "2021-06-16 19:04:29,449\t\tDefine the initial electrification status\n",
      "2021-06-16 19:04:29,579\t\tInitially 245 electrified\n",
      "2021-06-16 19:04:29,723\t\tElectrification loop 1 with 245 electrified\n",
      "2021-06-16 19:04:29,835\t\tCalculate investment cost\n",
      "2021-06-16 19:04:29,844\t\tDetermine electrification limits\n",
      "2021-06-16 19:04:29,856\t\tDetermine final electrification decision\n",
      "2021-06-16 19:04:29,858\t\tCalculate new capacity\n",
      "2021-06-16 19:04:29,874\t\tCalculate summaries\n",
      "2021-06-16 19:04:29,923\t\tCalculate new connections\n",
      "2021-06-16 19:04:29,932\t\tSetting electrification demand as per target per year\n",
      "2021-06-16 19:04:29,953\t\tCalculate minigrid hydro LCOE\n",
      "2021-06-16 19:04:30,013\t\tCalculate minigrid PV LCOE\n"
     ]
    },
    {
     "name": "stdout",
     "output_type": "stream",
     "text": [
      "The electrification rate achieved in 2025 is 83.3 %\n"
     ]
    },
    {
     "name": "stderr",
     "output_type": "stream",
     "text": [
      "2021-06-16 19:04:30,080\t\tCalculate minigrid wind LCOE\n",
      "2021-06-16 19:04:30,144\t\tCalculate standalone PV LCOE\n",
      "2021-06-16 19:04:30,177\t\tDetermine minimum technology (off-grid)\n",
      "2021-06-16 19:04:30,201\t\tDetermine minimum tech LCOE\n",
      "2021-06-16 19:04:30,214\t\tDefine the initial electrification status\n",
      "2021-06-16 19:04:30,347\t\tInitially 245 electrified\n",
      "2021-06-16 19:04:30,488\t\tElectrification loop 1 with 453 electrified\n",
      "2021-06-16 19:04:30,569\t\tElectrification loop 2 with 49 electrified\n",
      "2021-06-16 19:04:30,650\t\tElectrification loop 3 with 8 electrified\n",
      "2021-06-16 19:04:30,731\t\tElectrification loop 4 with 1 electrified\n",
      "2021-06-16 19:04:30,760\t\tCalculate investment cost\n",
      "2021-06-16 19:04:30,768\t\tDetermine electrification limits\n",
      "2021-06-16 19:04:30,776\t\tDetermine final electrification decision\n",
      "2021-06-16 19:04:30,778\t\tCalculate new capacity\n",
      "2021-06-16 19:04:30,794\t\tCalculate summaries\n"
     ]
    },
    {
     "name": "stdout",
     "output_type": "stream",
     "text": [
      "The electrification rate achieved in 2030 is 100.0 %\n"
     ]
    },
    {
     "name": "stderr",
     "output_type": "stream",
     "text": [
      "2021-06-16 19:04:31,021\t\tFinished\n"
     ]
    }
   ],
   "source": [
    "from onsset.runner import calibration, scenario\n",
    "\n",
    "cities_path = join(input_folder, 'cities.csv')\n",
    "calibrated_specifications_path = join(output_folder, 'specifications.xlsx')\n",
    "calibrated_cities_path = join(output_folder, 'cities.csv') \n",
    "\n",
    "calibration(\n",
    "    specs_path=specifications_path,\n",
    "    csv_path=cities_path,\n",
    "    specs_path_calib=calibrated_specifications_path,\n",
    "    calibrated_csv_path=calibrated_cities_path)\n",
    "scenario(\n",
    "    specs_path=calibrated_specifications_path,\n",
    "    calibrated_csv_path=calibrated_cities_path,\n",
    "    results_folder=details_folder,\n",
    "    summary_folder=summaries_folder)"
   ]
  },
  {
   "cell_type": "code",
   "execution_count": 9,
   "metadata": {},
   "outputs": [],
   "source": [
    "from glob import glob\n",
    "from os.path import basename, splitext\n",
    "\n",
    "def collect_scenarios(target_path, source_folder):\n",
    "    tables = []\n",
    "    for path in glob(join(source_folder, '*.csv')):\n",
    "        table = pd.read_csv(path)\n",
    "        table['ScenarioName'] = basename(splitext(path)[0])\n",
    "        columns = list(table.columns)\n",
    "        columns.insert(0, columns.pop(columns.index('ScenarioName')))\n",
    "        tables.append(table[columns])\n",
    "    scenarios = pd.concat(tables)\n",
    "    scenarios.to_csv(target_path, index=False)\n",
    "    return scenarios\n",
    "    \n",
    "scenarios = collect_scenarios(join(output_folder, 'details.csv'), details_folder)\n",
    "summaries = collect_scenarios(join(output_folder, 'summaries.csv'), summaries_folder)"
   ]
  },
  {
   "cell_type": "code",
   "execution_count": 10,
   "metadata": {},
   "outputs": [
    {
     "data": {
      "text/plain": [
       "'2030'"
      ]
     },
     "execution_count": 10,
     "metadata": {},
     "output_type": "execute_result"
    }
   ],
   "source": [
    "report_year = summaries.columns[-1]\n",
    "report_year"
   ]
  },
  {
   "cell_type": "code",
   "execution_count": 24,
   "metadata": {},
   "outputs": [
    {
     "data": {
      "text/plain": [
       "Unnamed: 0\n",
       "1.Population_Grid            1.111083e+06\n",
       "1.Population_SA_PV           3.546339e+04\n",
       "1.Population_MG_PV           3.195504e+04\n",
       "1.Population_MG_Wind         6.488908e+02\n",
       "2.New_Connections_Grid       2.058052e+05\n",
       "2.New_Connections_SA_PV      3.546339e+04\n",
       "2.New_Connections_MG_PV      3.195504e+04\n",
       "2.New_Connections_MG_Wind    6.488908e+02\n",
       "3.Capacity_Grid              9.644907e+03\n",
       "3.Capacity_SA_PV             2.017458e+03\n",
       "3.Capacity_MG_PV             2.037226e+03\n",
       "3.Capacity_MG_Wind           2.835530e+01\n",
       "4.Investment_Grid            3.367748e+07\n",
       "4.Investment_SA_PV           5.261939e+06\n",
       "4.Investment_MG_PV           4.632137e+06\n",
       "4.Investment_MG_Wind         9.178262e+04\n",
       "Name: 2030, dtype: float64"
      ]
     },
     "execution_count": 24,
     "metadata": {},
     "output_type": "execute_result"
    }
   ],
   "source": [
    "t = summaries[['Unnamed: 0', report_year]]\n",
    "t = t.set_index('Unnamed: 0')\n",
    "t = t.squeeze()\n",
    "t = t[t != 0]\n",
    "t"
   ]
  },
  {
   "cell_type": "code",
   "execution_count": 29,
   "metadata": {},
   "outputs": [
    {
     "data": {
      "text/plain": [
       "['1.Population_Grid',\n",
       " '1.Population_SA_PV',\n",
       " '1.Population_MG_PV',\n",
       " '1.Population_MG_Wind']"
      ]
     },
     "execution_count": 29,
     "metadata": {},
     "output_type": "execute_result"
    }
   ],
   "source": [
    "population_keys = [_ for _ in t.keys() if _.startswith('1.Population')]\n",
    "population_keys"
   ]
  },
  {
   "cell_type": "code",
   "execution_count": 30,
   "metadata": {},
   "outputs": [
    {
     "data": {
      "text/plain": [
       "['Grid', 'SA_PV', 'MG_PV', 'MG_Wind']"
      ]
     },
     "execution_count": 30,
     "metadata": {},
     "output_type": "execute_result"
    }
   ],
   "source": [
    "technology_codes = [_.replace('1.Population_', '') for _ in population_keys]\n",
    "technology_codes"
   ]
  },
  {
   "cell_type": "code",
   "execution_count": 36,
   "metadata": {},
   "outputs": [
    {
     "data": {
      "text/plain": [
       "['Grid Extension',\n",
       " 'Stand Alone - Photovoltaic',\n",
       " 'Mini Grid - Photovoltaic',\n",
       " 'Mini Grid - Wind']"
      ]
     },
     "execution_count": 36,
     "metadata": {},
     "output_type": "execute_result"
    }
   ],
   "source": [
    "technology_name_by_code = {\n",
    "    'Grid': 'Grid Extension',\n",
    "    'SA_PV': 'Stand Alone - Photovoltaic',\n",
    "    'MG_PV': 'Mini Grid - Photovoltaic',\n",
    "    'MG_Wind': 'Mini Grid - Wind',\n",
    "}\n",
    "technology_names = [technology_name_by_code[_] for _ in technology_codes]\n",
    "technology_names"
   ]
  },
  {
   "cell_type": "code",
   "execution_count": 37,
   "metadata": {},
   "outputs": [],
   "source": [
    "import pandas as pd\n",
    "summary_table = pd.DataFrame()\n",
    "summary_table['Technology'] = technology_names"
   ]
  },
  {
   "cell_type": "code",
   "execution_count": 39,
   "metadata": {},
   "outputs": [
    {
     "data": {
      "text/plain": [
       "Unnamed: 0\n",
       "1.Population_Grid            1.111083e+06\n",
       "1.Population_SA_PV           3.546339e+04\n",
       "1.Population_MG_PV           3.195504e+04\n",
       "1.Population_MG_Wind         6.488908e+02\n",
       "2.New_Connections_Grid       2.058052e+05\n",
       "2.New_Connections_SA_PV      3.546339e+04\n",
       "2.New_Connections_MG_PV      3.195504e+04\n",
       "2.New_Connections_MG_Wind    6.488908e+02\n",
       "3.Capacity_Grid              9.644907e+03\n",
       "3.Capacity_SA_PV             2.017458e+03\n",
       "3.Capacity_MG_PV             2.037226e+03\n",
       "3.Capacity_MG_Wind           2.835530e+01\n",
       "4.Investment_Grid            3.367748e+07\n",
       "4.Investment_SA_PV           5.261939e+06\n",
       "4.Investment_MG_PV           4.632137e+06\n",
       "4.Investment_MG_Wind         9.178262e+04\n",
       "Name: 2030, dtype: float64"
      ]
     },
     "execution_count": 39,
     "metadata": {},
     "output_type": "execute_result"
    }
   ],
   "source": [
    "t"
   ]
  },
  {
   "cell_type": "code",
   "execution_count": 38,
   "metadata": {},
   "outputs": [
    {
     "data": {
      "text/html": [
       "<div>\n",
       "<style scoped>\n",
       "    .dataframe tbody tr th:only-of-type {\n",
       "        vertical-align: middle;\n",
       "    }\n",
       "\n",
       "    .dataframe tbody tr th {\n",
       "        vertical-align: top;\n",
       "    }\n",
       "\n",
       "    .dataframe thead th {\n",
       "        text-align: right;\n",
       "    }\n",
       "</style>\n",
       "<table border=\"1\" class=\"dataframe\">\n",
       "  <thead>\n",
       "    <tr style=\"text-align: right;\">\n",
       "      <th></th>\n",
       "      <th>Technology</th>\n",
       "    </tr>\n",
       "  </thead>\n",
       "  <tbody>\n",
       "    <tr>\n",
       "      <th>0</th>\n",
       "      <td>Grid Extension</td>\n",
       "    </tr>\n",
       "    <tr>\n",
       "      <th>1</th>\n",
       "      <td>Stand Alone - Photovoltaic</td>\n",
       "    </tr>\n",
       "    <tr>\n",
       "      <th>2</th>\n",
       "      <td>Mini Grid - Photovoltaic</td>\n",
       "    </tr>\n",
       "    <tr>\n",
       "      <th>3</th>\n",
       "      <td>Mini Grid - Wind</td>\n",
       "    </tr>\n",
       "  </tbody>\n",
       "</table>\n",
       "</div>"
      ],
      "text/plain": [
       "                   Technology\n",
       "0              Grid Extension\n",
       "1  Stand Alone - Photovoltaic\n",
       "2    Mini Grid - Photovoltaic\n",
       "3            Mini Grid - Wind"
      ]
     },
     "execution_count": 38,
     "metadata": {},
     "output_type": "execute_result"
    }
   ],
   "source": [
    "summary_table['Population Connected']"
   ]
  },
  {
   "cell_type": "code",
   "execution_count": null,
   "metadata": {},
   "outputs": [],
   "source": [
    "summary_table['Investment Required']"
   ]
  },
  {
   "cell_type": "code",
   "execution_count": null,
   "metadata": {},
   "outputs": [],
   "source": [
    "summary_table['Added Capacity']"
   ]
  }
 ],
 "metadata": {
  "kernelspec": {
   "display_name": "Python 3",
   "language": "python",
   "name": "python3"
  },
  "language_info": {
   "codemirror_mode": {
    "name": "ipython",
    "version": 3
   },
   "file_extension": ".py",
   "mimetype": "text/x-python",
   "name": "python",
   "nbconvert_exporter": "python",
   "pygments_lexer": "ipython3",
   "version": "3.7.9"
  }
 },
 "nbformat": 4,
 "nbformat_minor": 4
}
